{
  "nbformat": 4,
  "nbformat_minor": 0,
  "metadata": {
    "colab": {
      "provenance": []
    },
    "kernelspec": {
      "name": "python3",
      "display_name": "Python 3"
    },
    "language_info": {
      "name": "python"
    }
  },
  "cells": [
    {
      "cell_type": "code",
      "execution_count": null,
      "metadata": {
        "id": "SvCDE66MlhQF"
      },
      "outputs": [],
      "source": [
        "# import library for handle data\n",
        "import os\n",
        "import numpy as np\n",
        "import pandas as pd\n",
        "from glob import glob\n",
        "from matplotlib import pyplot as plt"
      ]
    },
    {
      "cell_type": "code",
      "source": [
        "from google.colab import files\n",
        "uploaded = files.upload()"
      ],
      "metadata": {
        "id": "safeO1fOljNX"
      },
      "execution_count": null,
      "outputs": []
    },
    {
      "cell_type": "code",
      "source": [
        "df = pd.read_csv(\"./\")"
      ],
      "metadata": {
        "id": "FS_-gPj8llPC"
      },
      "execution_count": null,
      "outputs": []
    },
    {
      "cell_type": "code",
      "source": [
        "X = df.iloc[:, [0, 2]]  # Selecting column 0 and column 2 as input features (X)\n",
        "y = df.iloc[:, 1]"
      ],
      "metadata": {
        "id": "ggi-AxJPlokn"
      },
      "execution_count": null,
      "outputs": []
    },
    {
      "cell_type": "code",
      "source": [
        "import pandas as pd\n",
        "import numpy as np\n",
        "import matplotlib.pyplot as plt\n",
        "import seaborn as sns\n",
        "from sklearn.svm import SVR\n",
        "from sklearn.model_selection import train_test_split\n",
        "from sklearn.preprocessing import StandardScaler\n",
        "from sklearn.metrics import mean_squared_error, r2_score\n",
        "#Split data into training and testing sets\n",
        "X_train, X_test, y_train, y_test = train_test_split(X, y, test_size=0.3, random_state=42)\n",
        "#Scale the features\n",
        "scaler = StandardScaler()\n",
        "X_train_scaled = scaler.fit_transform(X_train)\n",
        "X_test_scaled = scaler.transform(X_test)\n",
        "#Create a support vector machine regression model\n",
        "model = SVR()\n",
        "#Train the model\n",
        "model.fit(X_train_scaled, y_train)\n",
        "#Predict target variable for test data\n",
        "y_pred = model.predict(X_test_scaled)\n",
        "#Calculate root mean squared error (RMSE)\n",
        "rmse = mean_squared_error(y_test, y_pred, squared=False)\n",
        "#Calculate R-squared score\n",
        "r2 = r2_score(y_test, y_pred)\n",
        "#Print evaluation metrics\n",
        "print('RMSE:', rmse)\n",
        "print('R-squared:', r2)\n",
        "#Plot regression and residual plots\n",
        "sns.regplot(x=y_test, y=y_pred)\n",
        "plt.xlabel('True Values')\n",
        "plt.ylabel('Predictions')\n",
        "plt.show()\n",
        "sns.residplot(x=y_test, y=y_pred)\n",
        "plt.xlabel('Predicted Values')\n",
        "plt.ylabel('Residuals')\n",
        "plt.show()\n"
      ],
      "metadata": {
        "id": "7Hw-XkrYlsvB"
      },
      "execution_count": null,
      "outputs": []
    },
    {
      "cell_type": "code",
      "source": [],
      "metadata": {
        "id": "PVFKvAl0lsyi"
      },
      "execution_count": null,
      "outputs": []
    }
  ]
}